{
  "nbformat": 4,
  "nbformat_minor": 0,
  "metadata": {
    "colab": {
      "name": "Main_MNIST.ipynb",
      "provenance": [],
      "toc_visible": true,
      "authorship_tag": "ABX9TyMYs5/y4d7aED1ixTFo+Oza",
      "include_colab_link": true
    },
    "kernelspec": {
      "name": "python3",
      "display_name": "Python 3"
    }
  },
  "cells": [
    {
      "cell_type": "markdown",
      "metadata": {
        "id": "view-in-github",
        "colab_type": "text"
      },
      "source": [
        "<a href=\"https://colab.research.google.com/github/obeabi/TorchStudy/blob/main/Main_MNIST.ipynb\" target=\"_parent\"><img src=\"https://colab.research.google.com/assets/colab-badge.svg\" alt=\"Open In Colab\"/></a>"
      ]
    },
    {
      "cell_type": "markdown",
      "metadata": {
        "id": "Eb0FOlOPikPC"
      },
      "source": [
        "# Image Classifier for MNIST Dataset (ConvNet)\r\n",
        "# Written by Abiola Obembe\r\n",
        "## Date: 2020-12-19\r\n",
        "\r\n",
        "\r\n",
        "For this tutorial, we will use the MNIST dataset. It has 10 classes 0 -10 "
      ]
    },
    {
      "cell_type": "markdown",
      "metadata": {
        "id": "8KHHmGsOi-BE"
      },
      "source": [
        "## Step 1: Load and Normalize the dataset"
      ]
    },
    {
      "cell_type": "code",
      "metadata": {
        "colab": {
          "base_uri": "https://localhost:8080/"
        },
        "id": "qrnaZc2YijEb",
        "outputId": "57e166b0-e761-4c45-db73-83e015e7b994"
      },
      "source": [
        "import torch\r\n",
        "import torchvision\r\n",
        "import torchvision.transforms as transforms\r\n",
        "import pandas as pd\r\n",
        "import numpy as np\r\n",
        "import matplotlib.pyplot as plt\r\n",
        "%matplotlib inline\r\n",
        "\r\n",
        "print(\"Import complete!\")"
      ],
      "execution_count": 29,
      "outputs": [
        {
          "output_type": "stream",
          "text": [
            "Import complete!\n"
          ],
          "name": "stdout"
        }
      ]
    },
    {
      "cell_type": "code",
      "metadata": {
        "colab": {
          "base_uri": "https://localhost:8080/"
        },
        "id": "4I1x4LwS40MS",
        "outputId": "7f52e5aa-2f7d-43bb-8784-764b1b156266"
      },
      "source": [
        "num_workers = 0\r\n",
        "batch_size = 20\r\n",
        "valid_size = 0.2\r\n",
        "\r\n",
        "#transform = transforms.Compose([transforms.ToTensor()])\r\n",
        "\r\n",
        "transform = transforms.Compose(\r\n",
        "    [transforms.ToTensor(),\r\n",
        "    transforms.Normalize((0.5), (0.5))])\r\n",
        "\r\n",
        "trainset = torchvision.datasets.MNIST(root='./data', train=True,\r\n",
        "                                        download=True, transform=transform)\r\n",
        "\r\n",
        "\r\n",
        "testset = torchvision.datasets.MNIST(root='./data', train=False,\r\n",
        "                                       download=True, transform=transform)\r\n",
        "\r\n",
        "num_train = len(trainset)\r\n",
        "indices = list(range(num_train))\r\n",
        "np.random.shuffle(indices)\r\n",
        "split = int(np.floor(valid_size * num_train))\r\n",
        "train_idx, valid_idx = indices[split:], indices[:split]\r\n",
        "\r\n",
        "\r\n",
        "trainloader = torch.utils.data.DataLoader(trainset, batch_size=batch_size, shuffle=True, num_workers=num_workers)\r\n",
        "\r\n",
        "\r\n",
        "\r\n",
        "testloader = torch.utils.data.DataLoader(testset, batch_size=batch_size,num_workers=num_workers, shuffle=False)\r\n",
        "\r\n",
        "print(trainset)"
      ],
      "execution_count": 30,
      "outputs": [
        {
          "output_type": "stream",
          "text": [
            "Dataset MNIST\n",
            "    Number of datapoints: 60000\n",
            "    Root location: ./data\n",
            "    Split: Train\n",
            "    StandardTransform\n",
            "Transform: Compose(\n",
            "               ToTensor()\n",
            "               Normalize(mean=0.5, std=0.5)\n",
            "           )\n"
          ],
          "name": "stdout"
        }
      ]
    },
    {
      "cell_type": "code",
      "metadata": {
        "id": "XoXMzn2RvI6p",
        "colab": {
          "base_uri": "https://localhost:8080/"
        },
        "outputId": "0894a022-d231-4e75-ec00-c100c331da95"
      },
      "source": [
        "# eXAMINE SIZE OF DATATETS\r\n",
        "print(len(trainset))\r\n",
        "print(len(testset))"
      ],
      "execution_count": 31,
      "outputs": [
        {
          "output_type": "stream",
          "text": [
            "60000\n",
            "10000\n"
          ],
          "name": "stdout"
        }
      ]
    },
    {
      "cell_type": "code",
      "metadata": {
        "id": "Kh7Lr-_UyIr-"
      },
      "source": [
        "#We then simply, obtain one batch of images for training using iter.\r\n",
        "dataiter = iter(trainloader)\r\n",
        "images, labels = dataiter.next()\r\n",
        "images = images.numpy()"
      ],
      "execution_count": 32,
      "outputs": []
    },
    {
      "cell_type": "code",
      "metadata": {
        "colab": {
          "base_uri": "https://localhost:8080/",
          "height": 205
        },
        "id": "PfBmmJVu74Pk",
        "outputId": "892911da-3500-4170-f5fc-611d1af9d05b"
      },
      "source": [
        "fig = plt.figure(figsize=(25, 4))\r\n",
        "for i in np.arange(20):\r\n",
        "    ax = fig.add_subplot(2, 20/2, i+1, xticks=[], yticks=[])\r\n",
        "    ax.imshow(np.squeeze(images[i]), cmap='gray')\r\n",
        "\r\n",
        "plt.show()"
      ],
      "execution_count": 33,
      "outputs": [
        {
          "output_type": "display_data",
          "data": {
            "image/png": "[encoded data removed]",
            "text/plain": [
              "<Figure size 1800x288 with 20 Axes>"
            ]
          },
          "metadata": {
            "tags": []
          }
        }
      ]
    },
    {
      "cell_type": "markdown",
      "metadata": {
        "id": "7-jgdAeAk_Z1"
      },
      "source": [
        "## Step 2: Define a CNN "
      ]
    },
    {
      "cell_type": "code",
      "metadata": {
        "colab": {
          "base_uri": "https://localhost:8080/"
        },
        "id": "VZuJDq6olGVf",
        "outputId": "e6063b20-deab-422b-d0e8-c6ddc4b0e5de"
      },
      "source": [
        "import torch.nn as nn\r\n",
        "import torch.nn.functional as F\r\n",
        "\r\n",
        "\r\n",
        "class Net(nn.Module):\r\n",
        "    def __init__(self):\r\n",
        "        super().__init__()\r\n",
        "        self.conv1 = nn.Conv2d(1, 32, kernel_size=3, stride=2, padding=1)\r\n",
        "        self.dropout = nn.Dropout(0.2)\r\n",
        "        self.conv2 = nn.Conv2d(32, 16, kernel_size=3, stride=2, padding=1)\r\n",
        "        self.dropout = nn.Dropout(0.2)\r\n",
        "        self.conv3 = nn.Conv2d(16, 10, kernel_size=3, stride=2, padding=1)\r\n",
        "        self.pool = nn.MaxPool2d(2, 2)\r\n",
        "        \r\n",
        "      \r\n",
        "    def forward(self, xb):\r\n",
        "        xb = xb.view(-1, 1, 28, 28)\r\n",
        "        xb = (F.relu(self.conv1(xb)))\r\n",
        "        xb = self.dropout(xb)\r\n",
        "        xb = (F.relu(self.conv2(xb)))\r\n",
        "        xb = self.dropout(xb)\r\n",
        "        xb = (F.relu(self.conv3(xb)))\r\n",
        "        xb = F.avg_pool2d(xb, 4)\r\n",
        "       \r\n",
        "     \r\n",
        "        return xb.view(-1, xb.size(1))\r\n",
        "        \r\n",
        "\r\n",
        "\r\n",
        "net = Net()\r\n",
        "print(net)"
      ],
      "execution_count": 34,
      "outputs": [
        {
          "output_type": "stream",
          "text": [
            "Net(\n",
            "  (conv1): Conv2d(1, 32, kernel_size=(3, 3), stride=(2, 2), padding=(1, 1))\n",
            "  (dropout): Dropout(p=0.2, inplace=False)\n",
            "  (conv2): Conv2d(32, 16, kernel_size=(3, 3), stride=(2, 2), padding=(1, 1))\n",
            "  (conv3): Conv2d(16, 10, kernel_size=(3, 3), stride=(2, 2), padding=(1, 1))\n",
            "  (pool): MaxPool2d(kernel_size=2, stride=2, padding=0, dilation=1, ceil_mode=False)\n",
            ")\n"
          ],
          "name": "stdout"
        }
      ]
    },
    {
      "cell_type": "markdown",
      "metadata": {
        "id": "4H_T4cAZmXQ3"
      },
      "source": [
        "## Step 3 : Define a Loss Function and Optimizer\r\n",
        "\r\n",
        "\r\n"
      ]
    },
    {
      "cell_type": "code",
      "metadata": {
        "id": "zmhID-DHmazE"
      },
      "source": [
        "import torch.optim as optim\r\n",
        "\r\n",
        "criterion = nn.CrossEntropyLoss()\r\n",
        "optimizer = optim.Adam(net.parameters(), lr=0.001)"
      ],
      "execution_count": 35,
      "outputs": []
    },
    {
      "cell_type": "markdown",
      "metadata": {
        "id": "KdvkWseWm272"
      },
      "source": [
        "## Step 4: Train the Network"
      ]
    },
    {
      "cell_type": "code",
      "metadata": {
        "colab": {
          "base_uri": "https://localhost:8080/"
        },
        "id": "C5tI4J6Em57P",
        "outputId": "d35672b8-1b65-4097-e564-f356d6869e9a"
      },
      "source": [
        "for epoch in range(10):  # loop over the dataset multiple times\r\n",
        "\r\n",
        "    running_loss = 0.0\r\n",
        "    for i, data in enumerate(trainloader, 0):\r\n",
        "        # get the inputs; data is a list of [inputs, labels]\r\n",
        "        inputs, labels = data\r\n",
        "\r\n",
        "        # zero the parameter gradients\r\n",
        "        optimizer.zero_grad()\r\n",
        "\r\n",
        "        # forward + backward + optimize\r\n",
        "        outputs = net(inputs)\r\n",
        "        loss = criterion(outputs, labels)\r\n",
        "        loss.backward()\r\n",
        "        optimizer.step()\r\n",
        "\r\n",
        "        # print statistics\r\n",
        "        running_loss += loss.item()\r\n",
        "        if i % 2000 == 1999:    # print every 2000 mini-batches\r\n",
        "            print('[%d, %5d] loss: %.3f' %\r\n",
        "                  (epoch + 1, i + 1, running_loss / 2000))\r\n",
        "            running_loss = 0.0\r\n",
        "\r\n",
        "print('Finished Training')"
      ],
      "execution_count": 36,
      "outputs": [
        {
          "output_type": "stream",
          "text": [
            "[1,  2000] loss: 1.115\n",
            "[2,  2000] loss: 0.517\n",
            "[3,  2000] loss: 0.408\n",
            "[4,  2000] loss: 0.358\n",
            "[5,  2000] loss: 0.327\n",
            "[6,  2000] loss: 0.312\n",
            "[7,  2000] loss: 0.293\n",
            "[8,  2000] loss: 0.283\n",
            "[9,  2000] loss: 0.272\n",
            "[10,  2000] loss: 0.255\n",
            "Finished Training\n"
          ],
          "name": "stdout"
        }
      ]
    },
    {
      "cell_type": "markdown",
      "metadata": {
        "id": "RBFh4kWwnM9G"
      },
      "source": [
        "## Step 5: Save Model"
      ]
    },
    {
      "cell_type": "code",
      "metadata": {
        "id": "f7w6yj8CnP_9"
      },
      "source": [
        "PATH = './minst_net.pth'\r\n",
        "torch.save(net.state_dict(), PATH)"
      ],
      "execution_count": 37,
      "outputs": []
    },
    {
      "cell_type": "markdown",
      "metadata": {
        "id": "rPJVmakQnwyt"
      },
      "source": [
        "## Step 6: Test Model on Test Set"
      ]
    },
    {
      "cell_type": "code",
      "metadata": {
        "colab": {
          "base_uri": "https://localhost:8080/",
          "height": 222
        },
        "id": "_KrOUWrzn111",
        "outputId": "0c2feaa5-14fd-4ffd-9db2-774e99cc0c0b"
      },
      "source": [
        "# Display random Image\r\n",
        "#We then simply, obtain one batch of images for training using iter.\r\n",
        "dataiter = iter(testloader)\r\n",
        "images, labels = dataiter.next()\r\n",
        "images = images.numpy()\r\n",
        "\r\n",
        "\r\n",
        "\r\n",
        "fig = plt.figure(figsize=(25, 4))\r\n",
        "for i in np.arange(20):\r\n",
        "    ax = fig.add_subplot(2, 20/2, i+1, xticks=[], yticks=[])\r\n",
        "    ax.imshow(np.squeeze(images[i]), cmap='gray')\r\n",
        "\r\n",
        "plt.show()\r\n",
        "\r\n",
        "classes = ('0','1','2','3','4','5','6','7','8','9')\r\n",
        "print('GroundTruth: ', ' '.join('%5s' % classes[labels[j]] for j in range(20)))"
      ],
      "execution_count": 38,
      "outputs": [
        {
          "output_type": "display_data",
          "data": {
            "image/png": "[encoded data removed]",
            "text/plain": [
              "<Figure size 1800x288 with 20 Axes>"
            ]
          },
          "metadata": {
            "tags": []
          }
        },
        {
          "output_type": "stream",
          "text": [
            "GroundTruth:      7     2     1     0     4     1     4     9     5     9     0     6     9     0     1     5     9     7     3     4\n"
          ],
          "name": "stdout"
        }
      ]
    },
    {
      "cell_type": "code",
      "metadata": {
        "colab": {
          "base_uri": "https://localhost:8080/"
        },
        "id": "Orf03qJSpK1I",
        "outputId": "b43b3a4f-a342-4915-9fd6-72ef0163b971"
      },
      "source": [
        "# Let us look at how the network performs on the whole dataset.\r\n",
        "\r\n",
        "correct = 0\r\n",
        "total = 0\r\n",
        "with torch.no_grad():\r\n",
        "    for data in testloader:\r\n",
        "        images, labels = data\r\n",
        "        outputs = net(images)\r\n",
        "        _, predicted = torch.max(outputs.data, 1)\r\n",
        "        total += labels.size(0)\r\n",
        "        correct += (predicted == labels).sum().item()\r\n",
        "\r\n",
        "print('Accuracy of the network on the 10000 test images: %d %%' % (\r\n",
        "    100 * correct / total))"
      ],
      "execution_count": 39,
      "outputs": [
        {
          "output_type": "stream",
          "text": [
            "Accuracy of the network on the 10000 test images: 92 %\n"
          ],
          "name": "stdout"
        }
      ]
    },
    {
      "cell_type": "markdown",
      "metadata": {
        "id": "Qw5hN9ISpdQ4"
      },
      "source": [
        "## Step 7: Investigating Model Performance"
      ]
    },
    {
      "cell_type": "code",
      "metadata": {
        "colab": {
          "base_uri": "https://localhost:8080/"
        },
        "id": "PzFPHum8plH5",
        "outputId": "c2854c52-de52-4bf6-9f86-503605af4b07"
      },
      "source": [
        "class_correct = list(0. for i in range(10))\r\n",
        "class_total = list(0. for i in range(10))\r\n",
        "with torch.no_grad():\r\n",
        "    for data in testloader:\r\n",
        "        images, labels = data\r\n",
        "        outputs = net(images)\r\n",
        "        _, predicted = torch.max(outputs, 1)\r\n",
        "        c = (predicted == labels).squeeze()\r\n",
        "        for i in range(4):\r\n",
        "            label = labels[i]\r\n",
        "            class_correct[label] += c[i].item()\r\n",
        "            class_total[label] += 1\r\n",
        "\r\n",
        "\r\n",
        "for i in range(10):\r\n",
        "    print('Accuracy of %5s : %2d %%' % (\r\n",
        "        classes[i], 100 * class_correct[i] / class_total[i]))"
      ],
      "execution_count": 40,
      "outputs": [
        {
          "output_type": "stream",
          "text": [
            "Accuracy of     0 : 94 %\n",
            "Accuracy of     1 : 98 %\n",
            "Accuracy of     2 : 94 %\n",
            "Accuracy of     3 : 83 %\n",
            "Accuracy of     4 : 92 %\n",
            "Accuracy of     5 : 94 %\n",
            "Accuracy of     6 : 91 %\n",
            "Accuracy of     7 : 92 %\n",
            "Accuracy of     8 : 92 %\n",
            "Accuracy of     9 : 89 %\n"
          ],
          "name": "stdout"
        }
      ]
    },
    {
      "cell_type": "code",
      "metadata": {
        "id": "8Os2_FgYqSrr",
        "colab": {
          "base_uri": "https://localhost:8080/"
        },
        "outputId": "d67cecfc-ee4c-4cc2-dc3c-c4a6927a10a2"
      },
      "source": [
        "device = torch.device(\"cuda:0\" if torch.cuda.is_available() else \"cpu\")\r\n",
        "\r\n",
        "# Assuming that we are on a CUDA machine, this should print a CUDA device:\r\n",
        "\r\n",
        "print(device)"
      ],
      "execution_count": 41,
      "outputs": [
        {
          "output_type": "stream",
          "text": [
            "cpu\n"
          ],
          "name": "stdout"
        }
      ]
    }
  ]
}