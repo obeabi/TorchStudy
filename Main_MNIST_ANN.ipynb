{
  "nbformat": 4,
  "nbformat_minor": 0,
  "metadata": {
    "colab": {
      "name": "Main_MNIST_ANN.ipynb",
      "provenance": [],
      "toc_visible": true,
      "include_colab_link": true
    },
    "kernelspec": {
      "name": "python3",
      "display_name": "Python 3"
    }
  },
  "cells": [
    {
      "cell_type": "markdown",
      "metadata": {
        "id": "view-in-github",
        "colab_type": "text"
      },
      "source": [
        "<a href=\"https://colab.research.google.com/github/obeabi/TorchStudy/blob/main/Main_MNIST_ANN.ipynb\" target=\"_parent\"><img src=\"https://colab.research.google.com/assets/colab-badge.svg\" alt=\"Open In Colab\"/></a>"
      ]
    },
    {
      "cell_type": "markdown",
      "metadata": {
        "id": "Eb0FOlOPikPC"
      },
      "source": [
        "# Image Classifier for MNIST Dataset (ANN)\r\n",
        "# Written by Abiola Obembe\r\n",
        "## Date: 2020-12-19\r\n",
        "\r\n",
        "\r\n",
        "For this tutorial, we will use the MNIST dataset. It has 10 classes (0-9) and in this particular example uses two hidden layers and a dropout layer to avoid overfitting. The number of hidden nodes in each layer is 256, therefore we let hidden_1 and hidden_2 equal to 256. We also put a dropout layer with a p-value of 0.25, which is simply the probability of a node being zeroed in a layer."
      ]
    },
    {
      "cell_type": "markdown",
      "metadata": {
        "id": "8KHHmGsOi-BE"
      },
      "source": [
        "## Step 1: Load and Normalize the dataset"
      ]
    },
    {
      "cell_type": "code",
      "metadata": {
        "colab": {
          "base_uri": "https://localhost:8080/"
        },
        "id": "qrnaZc2YijEb",
        "outputId": "16611665-af72-44dc-ca78-577227c5dd6e"
      },
      "source": [
        "import torch\r\n",
        "import torchvision\r\n",
        "import torchvision.transforms as transforms\r\n",
        "import pandas as pd\r\n",
        "import numpy as np\r\n",
        "import matplotlib.pyplot as plt\r\n",
        "%matplotlib inline\r\n",
        "\r\n",
        "print(\"Import complete!\")"
      ],
      "execution_count": 3,
      "outputs": [
        {
          "output_type": "stream",
          "text": [
            "Import complete!\n"
          ],
          "name": "stdout"
        }
      ]
    },
    {
      "cell_type": "code",
      "metadata": {
        "colab": {
          "base_uri": "https://localhost:8080/"
        },
        "id": "4I1x4LwS40MS",
        "outputId": "65a8ddb9-ddf5-49ec-cd27-443f991e2a6c"
      },
      "source": [
        "num_workers = 0\r\n",
        "batch_size = 20\r\n",
        "valid_size = 0.2\r\n",
        "\r\n",
        "transform = transforms.Compose(\r\n",
        "    [transforms.ToTensor(),\r\n",
        "    transforms.Normalize((0.5), (0.5))])\r\n",
        "\r\n",
        "trainset = torchvision.datasets.MNIST(root='./data', train=True,\r\n",
        "                                        download=True, transform=transform)\r\n",
        "\r\n",
        "\r\n",
        "testset = torchvision.datasets.MNIST(root='./data', train=False,\r\n",
        "                                       download=True, transform=transform)\r\n",
        "\r\n",
        "# Split train set to train and validation set\r\n",
        "num_train = len(trainset)\r\n",
        "indices = list(range(num_train))\r\n",
        "np.random.shuffle(indices)\r\n",
        "split = int(np.floor(valid_size * num_train))\r\n",
        "train_idx, valid_idx = indices[split:], indices[:split]\r\n",
        "\r\n",
        "\r\n",
        "trainloader = torch.utils.data.DataLoader(trainset, batch_size=batch_size, shuffle=True, num_workers=num_workers)\r\n",
        "\r\n",
        "validloader = torch.utils.data.DataLoader(trainset, batch_size=batch_size, shuffle=True, num_workers=num_workers)\r\n",
        "\r\n",
        "classes = ('0','1','2','3','4','5','6','7','8','9')\r\n",
        "\r\n",
        "testloader = torch.utils.data.DataLoader(testset, batch_size=batch_size,num_workers=num_workers, shuffle=False)\r\n",
        "\r\n",
        "print(trainset)"
      ],
      "execution_count": 5,
      "outputs": [
        {
          "output_type": "stream",
          "text": [
            "Dataset MNIST\n",
            "    Number of datapoints: 60000\n",
            "    Root location: ./data\n",
            "    Split: Train\n",
            "    StandardTransform\n",
            "Transform: Compose(\n",
            "               ToTensor()\n",
            "               Normalize(mean=0.5, std=0.5)\n",
            "           )\n"
          ],
          "name": "stdout"
        }
      ]
    },
    {
      "cell_type": "code",
      "metadata": {
        "id": "XoXMzn2RvI6p",
        "colab": {
          "base_uri": "https://localhost:8080/"
        },
        "outputId": "c4f1b06f-db03-473a-da24-d9ffac6f5e4a"
      },
      "source": [
        "# eXAMINE SIZE OF DATATETS\r\n",
        "print(len(trainset))\r\n",
        "print(len(testset))"
      ],
      "execution_count": 6,
      "outputs": [
        {
          "output_type": "stream",
          "text": [
            "60000\n",
            "10000\n"
          ],
          "name": "stdout"
        }
      ]
    },
    {
      "cell_type": "code",
      "metadata": {
        "id": "Kh7Lr-_UyIr-"
      },
      "source": [
        "#We then simply, obtain one batch of images for training using iter.\r\n",
        "dataiter = iter(trainloader)\r\n",
        "images, labels = dataiter.next()\r\n",
        "images = images.numpy()"
      ],
      "execution_count": 7,
      "outputs": []
    },
    {
      "cell_type": "code",
      "metadata": {
        "colab": {
          "base_uri": "https://localhost:8080/",
          "height": 222
        },
        "id": "PfBmmJVu74Pk",
        "outputId": "7d8aea59-32c7-4717-eae0-d11f9bc936cb"
      },
      "source": [
        "# Visualizes the batch of images\r\n",
        "fig = plt.figure(figsize=(25, 4))\r\n",
        "for i in np.arange(20):\r\n",
        "    ax = fig.add_subplot(2, 20/2, i+1, xticks=[], yticks=[])\r\n",
        "    ax.imshow(np.squeeze(images[i]), cmap='gray')\r\n",
        "\r\n",
        "plt.show()\r\n",
        "\r\n",
        "print('GroundTruth: ', ' '.join('%5s' % classes[labels[j]] for j in range(20)))"
      ],
      "execution_count": 9,
      "outputs": [
        {
          "output_type": "display_data",
          "data": {
            "image/png": "[encoded data removed]",
            "text/plain": [
              "<Figure size 1800x288 with 20 Axes>"
            ]
          },
          "metadata": {
            "tags": []
          }
        },
        {
          "output_type": "stream",
          "text": [
            "GroundTruth:      7     9     8     4     7     6     4     8     3     2     6     6     0     9     7     0     6     0     4     7\n"
          ],
          "name": "stdout"
        }
      ]
    },
    {
      "cell_type": "code",
      "metadata": {
        "colab": {
          "base_uri": "https://localhost:8080/"
        },
        "id": "TI3KMcms1UQ8",
        "outputId": "cf00f20f-6bbe-4049-e3b4-b5689d44f2ac"
      },
      "source": [
        "# Inspect shape/pixel of an image in the batch\r\n",
        "images[0].shape"
      ],
      "execution_count": 10,
      "outputs": [
        {
          "output_type": "execute_result",
          "data": {
            "text/plain": [
              "(1, 28, 28)"
            ]
          },
          "metadata": {
            "tags": []
          },
          "execution_count": 10
        }
      ]
    },
    {
      "cell_type": "markdown",
      "metadata": {
        "id": "7-jgdAeAk_Z1"
      },
      "source": [
        "## Step 2: Define a ANN "
      ]
    },
    {
      "cell_type": "code",
      "metadata": {
        "id": "E7ZpDF7g2UXP"
      },
      "source": [
        "# Import libraries for torch\r\n",
        "import torch.nn as nn\r\n",
        "import torch.nn.functional as F"
      ],
      "execution_count": 11,
      "outputs": []
    },
    {
      "cell_type": "code",
      "metadata": {
        "colab": {
          "base_uri": "https://localhost:8080/"
        },
        "id": "Ww-MKDv9zWB2",
        "outputId": "dbe5ca1c-339e-4db8-a6bd-f3c4ae710222"
      },
      "source": [
        "# Build architecture\r\n",
        "\r\n",
        "class Net(nn.Module):\r\n",
        "    def __init__(self):\r\n",
        "        super(Net, self).__init__()\r\n",
        "        hidden_1 = 256\r\n",
        "        hidden_2 = 256\r\n",
        "        self.fc1 = nn.Linear(28 * 28, hidden_1)\r\n",
        "        self.fc2 = nn.Linear(hidden_1, hidden_2)\r\n",
        "        self.fc3 = nn.Linear(hidden_2, 10)\r\n",
        "        self.dropout = nn.Dropout(0.25)\r\n",
        "\r\n",
        "    def forward(self, x):\r\n",
        "        # flatten image input\r\n",
        "        x = x.view(-1, 28 * 28)\r\n",
        "        # add hidden layer, with relu activation function\r\n",
        "        x = F.relu(self.fc1(x))\r\n",
        "        # add dropout layer\r\n",
        "        x = self.dropout(x)\r\n",
        "        # add hidden layer, with relu activation function\r\n",
        "        x = F.relu(self.fc2(x))\r\n",
        "        # add dropout layer\r\n",
        "        x = self.dropout(x)\r\n",
        "        # add output layer\r\n",
        "        x = self.fc3(x)\r\n",
        "        \r\n",
        "        return x\r\n",
        "\r\n",
        "# initialize the NN\r\n",
        "model = Net()\r\n",
        "print(model)\r\n",
        "\r\n",
        "   "
      ],
      "execution_count": 12,
      "outputs": [
        {
          "output_type": "stream",
          "text": [
            "Net(\n",
            "  (fc1): Linear(in_features=784, out_features=256, bias=True)\n",
            "  (fc2): Linear(in_features=256, out_features=256, bias=True)\n",
            "  (fc3): Linear(in_features=256, out_features=10, bias=True)\n",
            "  (dropout): Dropout(p=0.25, inplace=False)\n",
            ")\n"
          ],
          "name": "stdout"
        }
      ]
    },
    {
      "cell_type": "markdown",
      "metadata": {
        "id": "4H_T4cAZmXQ3"
      },
      "source": [
        "## Step 3 : Define a Loss Function and Optimizer\r\n",
        "\r\n",
        "\r\n"
      ]
    },
    {
      "cell_type": "code",
      "metadata": {
        "id": "zmhID-DHmazE"
      },
      "source": [
        "import torch.optim as optim\r\n",
        "\r\n",
        "criterion = nn.CrossEntropyLoss()\r\n",
        "optimizer = optim.Adam(model.parameters(), lr=0.001)\r\n",
        "\r\n",
        "n_epochs = 10\r\n",
        "valid_loss_min = np.Inf "
      ],
      "execution_count": 14,
      "outputs": []
    },
    {
      "cell_type": "markdown",
      "metadata": {
        "id": "KdvkWseWm272"
      },
      "source": [
        "## Step 4: Train the Network"
      ]
    },
    {
      "cell_type": "code",
      "metadata": {
        "colab": {
          "base_uri": "https://localhost:8080/"
        },
        "id": "C5tI4J6Em57P",
        "outputId": "7bca4488-0b2f-4828-847f-c6b03cbd4e76"
      },
      "source": [
        "for epoch in range(n_epochs):  # loop over the dataset multiple times\r\n",
        "\r\n",
        "  train_loss = 0.0\r\n",
        "  valid_loss = 0.0\r\n",
        "\r\n",
        "  for data, target in trainloader:\r\n",
        "      optimizer.zero_grad()\r\n",
        "      output = model(data)\r\n",
        "      loss = criterion(output, target)\r\n",
        "      loss.backward()\r\n",
        "      optimizer.step()\r\n",
        "      train_loss += loss.item() * data.size(0)\r\n",
        "\r\n",
        "\r\n",
        "  for data, target in validloader:\r\n",
        "      output = model(data)\r\n",
        "      loss = criterion(output, target)\r\n",
        "      valid_loss += loss.item() * data.size(0)\r\n",
        "\r\n",
        "  train_loss = train_loss / len(trainloader.sampler)\r\n",
        "  valid_loss = valid_loss / len(validloader.sampler)\r\n",
        "\r\n",
        "  print('Epoch: {} \\tTraining Loss: {:.6f} \\tValidation Loss: {:.6f}'.format(\r\n",
        "    epoch + 1,\r\n",
        "    train_loss,\r\n",
        "    valid_loss\r\n",
        "  ))"
      ],
      "execution_count": 17,
      "outputs": [
        {
          "output_type": "stream",
          "text": [
            "Epoch: 1 \tTraining Loss: 0.401114 \tValidation Loss: 0.293468\n",
            "Epoch: 2 \tTraining Loss: 0.246041 \tValidation Loss: 0.212601\n",
            "Epoch: 3 \tTraining Loss: 0.209287 \tValidation Loss: 0.183337\n",
            "Epoch: 4 \tTraining Loss: 0.196138 \tValidation Loss: 0.185543\n",
            "Epoch: 5 \tTraining Loss: 0.184148 \tValidation Loss: 0.152180\n",
            "Epoch: 6 \tTraining Loss: 0.167993 \tValidation Loss: 0.171279\n",
            "Epoch: 7 \tTraining Loss: 0.166618 \tValidation Loss: 0.170890\n",
            "Epoch: 8 \tTraining Loss: 0.160129 \tValidation Loss: 0.161648\n",
            "Epoch: 9 \tTraining Loss: 0.153673 \tValidation Loss: 0.129797\n",
            "Epoch: 10 \tTraining Loss: 0.152826 \tValidation Loss: 0.131792\n"
          ],
          "name": "stdout"
        }
      ]
    },
    {
      "cell_type": "markdown",
      "metadata": {
        "id": "RBFh4kWwnM9G"
      },
      "source": [
        "## Step 5: Save Model"
      ]
    },
    {
      "cell_type": "code",
      "metadata": {
        "id": "f7w6yj8CnP_9"
      },
      "source": [
        "PATH = './minst_net.pth'\r\n",
        "torch.save(model.state_dict(), PATH)"
      ],
      "execution_count": 18,
      "outputs": []
    },
    {
      "cell_type": "markdown",
      "metadata": {
        "id": "rPJVmakQnwyt"
      },
      "source": [
        "## Step 6: Test Model on Test Set"
      ]
    },
    {
      "cell_type": "code",
      "metadata": {
        "colab": {
          "base_uri": "https://localhost:8080/",
          "height": 222
        },
        "id": "_KrOUWrzn111",
        "outputId": "6844c1a9-b4e6-4056-c796-398bb1eccbb4"
      },
      "source": [
        "# Display random Image\r\n",
        "#We then simply, obtain one batch of images for training using iter.\r\n",
        "dataiter = iter(testloader)\r\n",
        "images, labels = dataiter.next()\r\n",
        "images = images.numpy()\r\n",
        "\r\n",
        "\r\n",
        "\r\n",
        "fig = plt.figure(figsize=(25, 4))\r\n",
        "for i in np.arange(20):\r\n",
        "    ax = fig.add_subplot(2, 20/2, i+1, xticks=[], yticks=[])\r\n",
        "    ax.imshow(np.squeeze(images[i]), cmap='gray')\r\n",
        "\r\n",
        "plt.show()\r\n",
        "\r\n",
        "classes = ('0','1','2','3','4','5','6','7','8','9')\r\n",
        "print('GroundTruth: ', ' '.join('%5s' % classes[labels[j]] for j in range(20)))"
      ],
      "execution_count": 20,
      "outputs": [
        {
          "output_type": "display_data",
          "data": {
            "image/png": "[encoded data removed]",
            "text/plain": [
              "<Figure size 1800x288 with 20 Axes>"
            ]
          },
          "metadata": {
            "tags": []
          }
        },
        {
          "output_type": "stream",
          "text": [
            "GroundTruth:      7     2     1     0     4     1     4     9     5     9     0     6     9     0     1     5     9     7     3     4\n"
          ],
          "name": "stdout"
        }
      ]
    },
    {
      "cell_type": "code",
      "metadata": {
        "colab": {
          "base_uri": "https://localhost:8080/"
        },
        "id": "Orf03qJSpK1I",
        "outputId": "6cad7819-6cfb-46b8-d0f9-e0fab6cfef96"
      },
      "source": [
        "# Let us look at how the network performs on the whole dataset.\r\n",
        "correct = 0\r\n",
        "total = 0\r\n",
        "with torch.no_grad():\r\n",
        "    for data in testloader:\r\n",
        "        images, labels = data\r\n",
        "        outputs = model(images)\r\n",
        "        _, predicted = torch.max(outputs.data, 1)\r\n",
        "        total += labels.size(0)\r\n",
        "        correct += (predicted == labels).sum().item()\r\n",
        "\r\n",
        "print('Accuracy of the network on the 10000 test images: %d %%' % (\r\n",
        "    100 * correct / total))\r\n"
      ],
      "execution_count": 28,
      "outputs": [
        {
          "output_type": "stream",
          "text": [
            "Accuracy of the network on the 10000 test images: 95 %\n"
          ],
          "name": "stdout"
        }
      ]
    },
    {
      "cell_type": "markdown",
      "metadata": {
        "id": "Qw5hN9ISpdQ4"
      },
      "source": [
        "## Step 7: Investigating Model Performance"
      ]
    },
    {
      "cell_type": "code",
      "metadata": {
        "colab": {
          "base_uri": "https://localhost:8080/"
        },
        "id": "PzFPHum8plH5",
        "outputId": "221bd55a-ac7f-47ca-b0fb-6697f755e6de"
      },
      "source": [
        "class_correct = list(0. for i in range(10))\r\n",
        "class_total = list(0. for i in range(10))\r\n",
        "with torch.no_grad():\r\n",
        "    for data in testloader:\r\n",
        "        images, labels = data\r\n",
        "        outputs = model(images)\r\n",
        "        _, predicted = torch.max(outputs, 1)\r\n",
        "        c = (predicted == labels).squeeze()\r\n",
        "        for i in range(4):\r\n",
        "            label = labels[i]\r\n",
        "            class_correct[label] += c[i].item()\r\n",
        "            class_total[label] += 1\r\n",
        "\r\n",
        "\r\n",
        "for i in range(10):\r\n",
        "    print('Accuracy of %5s : %2d %%' % (\r\n",
        "        classes[i], 100 * class_correct[i] / class_total[i]))"
      ],
      "execution_count": 29,
      "outputs": [
        {
          "output_type": "stream",
          "text": [
            "Accuracy of     0 : 97 %\n",
            "Accuracy of     1 : 98 %\n",
            "Accuracy of     2 : 97 %\n",
            "Accuracy of     3 : 92 %\n",
            "Accuracy of     4 : 95 %\n",
            "Accuracy of     5 : 92 %\n",
            "Accuracy of     6 : 95 %\n",
            "Accuracy of     7 : 92 %\n",
            "Accuracy of     8 : 94 %\n",
            "Accuracy of     9 : 91 %\n"
          ],
          "name": "stdout"
        }
      ]
    },
    {
      "cell_type": "code",
      "metadata": {
        "id": "8Os2_FgYqSrr",
        "colab": {
          "base_uri": "https://localhost:8080/"
        },
        "outputId": "d589e02e-4fbe-45bb-c20b-54c19f898e6d"
      },
      "source": [
        "device = torch.device(\"cuda:0\" if torch.cuda.is_available() else \"cpu\")\r\n",
        "\r\n",
        "# Assuming that we are on a CUDA machine, this should print a CUDA device:\r\n",
        "\r\n",
        "print(device)"
      ],
      "execution_count": 30,
      "outputs": [
        {
          "output_type": "stream",
          "text": [
            "cpu\n"
          ],
          "name": "stdout"
        }
      ]
    }
  ]
}