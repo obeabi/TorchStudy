{
  "nbformat": 4,
  "nbformat_minor": 0,
  "metadata": {
    "colab": {
      "name": "PyTorch_Tut.ipynb",
      "provenance": [],
      "authorship_tag": "ABX9TyMXMCCaAs9wS67ZUYBujBAr",
      "include_colab_link": true
    },
    "kernelspec": {
      "name": "python3",
      "display_name": "Python 3"
    }
  },
  "cells": [
    {
      "cell_type": "markdown",
      "metadata": {
        "id": "view-in-github",
        "colab_type": "text"
      },
      "source": [
        "<a href=\"https://colab.research.google.com/github/obeabi/TorchStudy/blob/main/PyTorch_Tut.ipynb\" target=\"_parent\"><img src=\"https://colab.research.google.com/assets/colab-badge.svg\" alt=\"Open In Colab\"/></a>"
      ]
    },
    {
      "cell_type": "markdown",
      "metadata": {
        "id": "FM468J63WuB-"
      },
      "source": [
        "# Pytorch Tutorial"
      ]
    },
    {
      "cell_type": "code",
      "metadata": {
        "colab": {
          "base_uri": "https://localhost:8080/"
        },
        "id": "0Vypu_YFDwmv",
        "outputId": "db5384ac-bdf3-44ae-a80b-604ab3b32f1f"
      },
      "source": [
        "import torch\r\n",
        "import numpy as np\r\n",
        "import pandas as pd\r\n",
        "import matplotlib.pyplot as plt\r\n",
        "%matplotlib inline\r\n",
        "print(\"Import Successful!\")"
      ],
      "execution_count": 4,
      "outputs": [
        {
          "output_type": "stream",
          "text": [
            "Import Successful!\n"
          ],
          "name": "stdout"
        }
      ]
    },
    {
      "cell_type": "code",
      "metadata": {
        "colab": {
          "base_uri": "https://localhost:8080/"
        },
        "id": "3b1afHOdHKcg",
        "outputId": "0476e5f9-36bc-4f05-bc63-280b92f7c6a9"
      },
      "source": [
        "torch.empty(3,3)"
      ],
      "execution_count": 5,
      "outputs": [
        {
          "output_type": "execute_result",
          "data": {
            "text/plain": [
              "tensor([[4.0197e-36, 0.0000e+00, 3.3631e-44],\n",
              "        [0.0000e+00,        nan, 6.4460e-44],\n",
              "        [1.1578e+27, 1.1362e+30, 7.1547e+22]])"
            ]
          },
          "metadata": {
            "tags": []
          },
          "execution_count": 5
        }
      ]
    },
    {
      "cell_type": "code",
      "metadata": {
        "colab": {
          "base_uri": "https://localhost:8080/"
        },
        "id": "0Mtga5duHNbf",
        "outputId": "7fa93940-0475-42dd-f3fa-8b0ef856a26f"
      },
      "source": [
        "x = torch.tensor([3,4.3,5])\r\n",
        "type(x)"
      ],
      "execution_count": 10,
      "outputs": [
        {
          "output_type": "execute_result",
          "data": {
            "text/plain": [
              "torch.Tensor"
            ]
          },
          "metadata": {
            "tags": []
          },
          "execution_count": 10
        }
      ]
    },
    {
      "cell_type": "code",
      "metadata": {
        "colab": {
          "base_uri": "https://localhost:8080/"
        },
        "id": "5fWb8HIfHVeQ",
        "outputId": "715b09cd-3bde-4c43-8679-379d97c31c2e"
      },
      "source": [
        "print(x)"
      ],
      "execution_count": 11,
      "outputs": [
        {
          "output_type": "stream",
          "text": [
            "tensor([3.0000, 4.3000, 5.0000])\n"
          ],
          "name": "stdout"
        }
      ]
    },
    {
      "cell_type": "code",
      "metadata": {
        "colab": {
          "base_uri": "https://localhost:8080/"
        },
        "id": "-mgm1ZdRHXex",
        "outputId": "f00abd92-147b-4153-997c-a4483a280ad4"
      },
      "source": [
        "x = x.new_zeros(5, 3, dtype=torch.double)      # new_* methods take in sizes\r\n",
        "print(x)"
      ],
      "execution_count": 14,
      "outputs": [
        {
          "output_type": "stream",
          "text": [
            "tensor([[0., 0., 0.],\n",
            "        [0., 0., 0.],\n",
            "        [0., 0., 0.],\n",
            "        [0., 0., 0.],\n",
            "        [0., 0., 0.]], dtype=torch.float64)\n"
          ],
          "name": "stdout"
        }
      ]
    },
    {
      "cell_type": "code",
      "metadata": {
        "colab": {
          "base_uri": "https://localhost:8080/"
        },
        "id": "Hu_ItKTaIagm",
        "outputId": "1ae6410d-3b6b-490b-c563-31edf7b54db6"
      },
      "source": [
        "x.shape"
      ],
      "execution_count": 15,
      "outputs": [
        {
          "output_type": "execute_result",
          "data": {
            "text/plain": [
              "torch.Size([5, 3])"
            ]
          },
          "metadata": {
            "tags": []
          },
          "execution_count": 15
        }
      ]
    },
    {
      "cell_type": "code",
      "metadata": {
        "colab": {
          "base_uri": "https://localhost:8080/"
        },
        "id": "HU360yY_IdPv",
        "outputId": "4f7a9ff6-87fa-4329-b2e9-9c7213363dd6"
      },
      "source": [
        "x.size()"
      ],
      "execution_count": 16,
      "outputs": [
        {
          "output_type": "execute_result",
          "data": {
            "text/plain": [
              "torch.Size([5, 3])"
            ]
          },
          "metadata": {
            "tags": []
          },
          "execution_count": 16
        }
      ]
    },
    {
      "cell_type": "code",
      "metadata": {
        "colab": {
          "base_uri": "https://localhost:8080/"
        },
        "id": "xn9TfmBdIqfj",
        "outputId": "f6cc6b40-2408-427b-933f-6455c8668d5b"
      },
      "source": [
        "x = torch.rand_like(x,dtype = torch.float64)\r\n",
        "print(x)"
      ],
      "execution_count": 17,
      "outputs": [
        {
          "output_type": "stream",
          "text": [
            "tensor([[0.2340, 0.2104, 0.3733],\n",
            "        [0.6836, 0.2278, 0.0105],\n",
            "        [0.6089, 0.7068, 0.1448],\n",
            "        [0.5872, 0.9578, 0.1407],\n",
            "        [0.5213, 0.8182, 0.2439]], dtype=torch.float64)\n"
          ],
          "name": "stdout"
        }
      ]
    },
    {
      "cell_type": "code",
      "metadata": {
        "colab": {
          "base_uri": "https://localhost:8080/"
        },
        "id": "Q1NO2WjnI7qv",
        "outputId": "428e1acc-63c3-4788-d1b0-82981de5c723"
      },
      "source": [
        "y = torch.randn((5,3), dtype = torch.float64)\r\n",
        "print(y)"
      ],
      "execution_count": 19,
      "outputs": [
        {
          "output_type": "stream",
          "text": [
            "tensor([[-0.2503, -1.3996, -0.6188],\n",
            "        [ 1.1900,  1.0836, -0.8590],\n",
            "        [ 0.1052, -2.1418,  0.8983],\n",
            "        [ 0.3015,  0.5933, -0.8034],\n",
            "        [ 1.0030, -1.1387,  0.4111]], dtype=torch.float64)\n"
          ],
          "name": "stdout"
        }
      ]
    },
    {
      "cell_type": "code",
      "metadata": {
        "colab": {
          "base_uri": "https://localhost:8080/"
        },
        "id": "hmHs3vSiJTG5",
        "outputId": "76f801b2-b323-40fb-8a91-b5fe8aa4b718"
      },
      "source": [
        "print(x+y)"
      ],
      "execution_count": 22,
      "outputs": [
        {
          "output_type": "stream",
          "text": [
            "tensor([[-0.0163, -1.1891, -0.2455],\n",
            "        [ 1.8736,  1.3114, -0.8485],\n",
            "        [ 0.7141, -1.4350,  1.0431],\n",
            "        [ 0.8887,  1.5512, -0.6627],\n",
            "        [ 1.5243, -0.3206,  0.6551]], dtype=torch.float64)\n"
          ],
          "name": "stdout"
        }
      ]
    },
    {
      "cell_type": "code",
      "metadata": {
        "colab": {
          "base_uri": "https://localhost:8080/"
        },
        "id": "Ap8wZmedJFkc",
        "outputId": "74df9117-bcbb-4f4d-a121-878870482045"
      },
      "source": [
        "result = torch.empty(5,3)\r\n",
        "torch.add(x,y,out= result)\r\n",
        "print(result)"
      ],
      "execution_count": 24,
      "outputs": [
        {
          "output_type": "stream",
          "text": [
            "tensor([[ 0.2177, -0.9787,  0.1278],\n",
            "        [ 2.5572,  1.5392, -0.8380],\n",
            "        [ 1.3231, -0.7282,  1.1880],\n",
            "        [ 1.4759,  2.5090, -0.5220],\n",
            "        [ 2.0456,  0.4976,  0.8990]])\n"
          ],
          "name": "stdout"
        }
      ]
    },
    {
      "cell_type": "code",
      "metadata": {
        "colab": {
          "base_uri": "https://localhost:8080/"
        },
        "id": "AeEujrqUJkRZ",
        "outputId": "5e14aea2-3cc3-45fb-a89b-578fc7600368"
      },
      "source": [
        "y.add_(x)"
      ],
      "execution_count": 23,
      "outputs": [
        {
          "output_type": "execute_result",
          "data": {
            "text/plain": [
              "tensor([[-0.0163, -1.1891, -0.2455],\n",
              "        [ 1.8736,  1.3114, -0.8485],\n",
              "        [ 0.7141, -1.4350,  1.0431],\n",
              "        [ 0.8887,  1.5512, -0.6627],\n",
              "        [ 1.5243, -0.3206,  0.6551]], dtype=torch.float64)"
            ]
          },
          "metadata": {
            "tags": []
          },
          "execution_count": 23
        }
      ]
    },
    {
      "cell_type": "code",
      "metadata": {
        "colab": {
          "base_uri": "https://localhost:8080/"
        },
        "id": "WnOJAcv3KXlW",
        "outputId": "83a1fced-2c3b-4d8a-cf1a-202079eb0404"
      },
      "source": [
        "x.copy_(y)\r\n",
        "print(x)"
      ],
      "execution_count": 26,
      "outputs": [
        {
          "output_type": "stream",
          "text": [
            "tensor([[-0.0163, -1.1891, -0.2455],\n",
            "        [ 1.8736,  1.3114, -0.8485],\n",
            "        [ 0.7141, -1.4350,  1.0431],\n",
            "        [ 0.8887,  1.5512, -0.6627],\n",
            "        [ 1.5243, -0.3206,  0.6551]], dtype=torch.float64)\n"
          ],
          "name": "stdout"
        }
      ]
    },
    {
      "cell_type": "code",
      "metadata": {
        "colab": {
          "base_uri": "https://localhost:8080/"
        },
        "id": "_uM1d4SeKiwj",
        "outputId": "82e2d494-e298-4107-b00b-6b78b5c74b3c"
      },
      "source": [
        "z = y.view(-1,15)\r\n",
        "z.size()"
      ],
      "execution_count": 28,
      "outputs": [
        {
          "output_type": "execute_result",
          "data": {
            "text/plain": [
              "torch.Size([1, 15])"
            ]
          },
          "metadata": {
            "tags": []
          },
          "execution_count": 28
        }
      ]
    },
    {
      "cell_type": "code",
      "metadata": {
        "colab": {
          "base_uri": "https://localhost:8080/"
        },
        "id": "kUg9wNv8KyTR",
        "outputId": "2c4a2c9a-ef80-4db8-c720-aa72b336fa73"
      },
      "source": [
        "print(x)"
      ],
      "execution_count": 29,
      "outputs": [
        {
          "output_type": "stream",
          "text": [
            "tensor([[-0.0163, -1.1891, -0.2455],\n",
            "        [ 1.8736,  1.3114, -0.8485],\n",
            "        [ 0.7141, -1.4350,  1.0431],\n",
            "        [ 0.8887,  1.5512, -0.6627],\n",
            "        [ 1.5243, -0.3206,  0.6551]], dtype=torch.float64)\n"
          ],
          "name": "stdout"
        }
      ]
    },
    {
      "cell_type": "code",
      "metadata": {
        "colab": {
          "base_uri": "https://localhost:8080/"
        },
        "id": "8fn8mkVWK0I_",
        "outputId": "af0b39bd-efaa-4bd3-8285-fe88a07dc66a"
      },
      "source": [
        "x[:,-1]"
      ],
      "execution_count": 30,
      "outputs": [
        {
          "output_type": "execute_result",
          "data": {
            "text/plain": [
              "tensor([-0.2455, -0.8485,  1.0431, -0.6627,  0.6551], dtype=torch.float64)"
            ]
          },
          "metadata": {
            "tags": []
          },
          "execution_count": 30
        }
      ]
    },
    {
      "cell_type": "code",
      "metadata": {
        "colab": {
          "base_uri": "https://localhost:8080/"
        },
        "id": "F-kQT3fIK4XZ",
        "outputId": "09c2f3de-5940-4c3d-9f87-17c7f722dca7"
      },
      "source": [
        "x = torch.randn(1)\r\n",
        "print(x)"
      ],
      "execution_count": 31,
      "outputs": [
        {
          "output_type": "stream",
          "text": [
            "tensor([0.8196])\n"
          ],
          "name": "stdout"
        }
      ]
    },
    {
      "cell_type": "code",
      "metadata": {
        "colab": {
          "base_uri": "https://localhost:8080/"
        },
        "id": "9NpXmy_mLDSX",
        "outputId": "f291b211-fc8c-494e-da67-e2979211244b"
      },
      "source": [
        "print(x.item())"
      ],
      "execution_count": 32,
      "outputs": [
        {
          "output_type": "stream",
          "text": [
            "0.8196478486061096\n"
          ],
          "name": "stdout"
        }
      ]
    },
    {
      "cell_type": "code",
      "metadata": {
        "colab": {
          "base_uri": "https://localhost:8080/"
        },
        "id": "GwYvG9bBMEQw",
        "outputId": "0d5dd0ab-0d8a-4bf1-ba7a-e035e133b1f1"
      },
      "source": [
        "a = np.ones((5,6))\r\n",
        "b = torch.from_numpy(a)\r\n",
        "np.add(a,2, out = a)\r\n",
        "print(a)\r\n",
        "print(b)"
      ],
      "execution_count": 37,
      "outputs": [
        {
          "output_type": "stream",
          "text": [
            "[[3. 3. 3. 3. 3. 3.]\n",
            " [3. 3. 3. 3. 3. 3.]\n",
            " [3. 3. 3. 3. 3. 3.]\n",
            " [3. 3. 3. 3. 3. 3.]\n",
            " [3. 3. 3. 3. 3. 3.]]\n",
            "tensor([[3., 3., 3., 3., 3., 3.],\n",
            "        [3., 3., 3., 3., 3., 3.],\n",
            "        [3., 3., 3., 3., 3., 3.],\n",
            "        [3., 3., 3., 3., 3., 3.],\n",
            "        [3., 3., 3., 3., 3., 3.]], dtype=torch.float64)\n"
          ],
          "name": "stdout"
        }
      ]
    },
    {
      "cell_type": "code",
      "metadata": {
        "colab": {
          "base_uri": "https://localhost:8080/"
        },
        "id": "KpdX-l44OyVr",
        "outputId": "ee760a7a-2104-4534-d86f-4b780f50afc3"
      },
      "source": [
        "x = torch.ones((2,2),requires_grad= True)\r\n",
        "print(x)"
      ],
      "execution_count": 40,
      "outputs": [
        {
          "output_type": "stream",
          "text": [
            "tensor([[1., 1.],\n",
            "        [1., 1.]], requires_grad=True)\n"
          ],
          "name": "stdout"
        }
      ]
    },
    {
      "cell_type": "code",
      "metadata": {
        "colab": {
          "base_uri": "https://localhost:8080/"
        },
        "id": "yZtCtthXPCRI",
        "outputId": "bdb589fd-4303-444b-ee37-a0f2482ccac3"
      },
      "source": [
        "y = torch.add(x,2)\r\n",
        "print(y)"
      ],
      "execution_count": 42,
      "outputs": [
        {
          "output_type": "stream",
          "text": [
            "tensor([[3., 3.],\n",
            "        [3., 3.]], grad_fn=<AddBackward0>)\n"
          ],
          "name": "stdout"
        }
      ]
    },
    {
      "cell_type": "code",
      "metadata": {
        "colab": {
          "base_uri": "https://localhost:8080/"
        },
        "id": "-xj3-B-HPf2w",
        "outputId": "236f43e5-35f6-46ea-9ea3-8c078fc56c87"
      },
      "source": [
        "y.grad_fn"
      ],
      "execution_count": 43,
      "outputs": [
        {
          "output_type": "execute_result",
          "data": {
            "text/plain": [
              "<AddBackward0 at 0x7fbc0a3acc88>"
            ]
          },
          "metadata": {
            "tags": []
          },
          "execution_count": 43
        }
      ]
    },
    {
      "cell_type": "code",
      "metadata": {
        "colab": {
          "base_uri": "https://localhost:8080/"
        },
        "id": "JDlMk65gQ9Vm",
        "outputId": "29b034f0-2a4f-4e91-f986-8177e40fee73"
      },
      "source": [
        "a = torch.randn(3,4)\r\n",
        "a = ((a - 1)/ (a+4))\r\n",
        "print(a)"
      ],
      "execution_count": 44,
      "outputs": [
        {
          "output_type": "stream",
          "text": [
            "tensor([[-0.0441, -0.4247, -0.0188, -0.2008],\n",
            "        [-0.5485, -0.3682, -0.5726,  0.0149],\n",
            "        [-1.0000, -0.5606, -0.4048,  0.1720]])\n"
          ],
          "name": "stdout"
        }
      ]
    },
    {
      "cell_type": "code",
      "metadata": {
        "colab": {
          "base_uri": "https://localhost:8080/"
        },
        "id": "1c80isx6RHzA",
        "outputId": "0ea2de5a-043c-4716-8761-81e8350dd696"
      },
      "source": [
        "print(a.grad_fn)"
      ],
      "execution_count": 46,
      "outputs": [
        {
          "output_type": "stream",
          "text": [
            "None\n"
          ],
          "name": "stdout"
        }
      ]
    },
    {
      "cell_type": "code",
      "metadata": {
        "colab": {
          "base_uri": "https://localhost:8080/"
        },
        "id": "5FJ15ia_RQGW",
        "outputId": "255f482d-96d3-4206-e338-2b1587240e8f"
      },
      "source": [
        "print(a.requires_grad)"
      ],
      "execution_count": 48,
      "outputs": [
        {
          "output_type": "stream",
          "text": [
            "False\n"
          ],
          "name": "stdout"
        }
      ]
    },
    {
      "cell_type": "code",
      "metadata": {
        "colab": {
          "base_uri": "https://localhost:8080/"
        },
        "id": "gIfI-EYsRyFn",
        "outputId": "32c0c61c-6f9b-49cd-db7b-54d5c151f234"
      },
      "source": [
        "x = torch.ones(2, 2, requires_grad=True)\r\n",
        "y = x + 2\r\n",
        "z = y * x * 3\r\n",
        "out = z.mean()\r\n",
        "\r\n",
        "print(z, out)"
      ],
      "execution_count": 63,
      "outputs": [
        {
          "output_type": "stream",
          "text": [
            "tensor([[9., 9.],\n",
            "        [9., 9.]], grad_fn=<MulBackward0>) tensor(9., grad_fn=<MeanBackward0>)\n"
          ],
          "name": "stdout"
        }
      ]
    },
    {
      "cell_type": "code",
      "metadata": {
        "colab": {
          "base_uri": "https://localhost:8080/"
        },
        "id": "TN5GDVq_SKkz",
        "outputId": "904c646b-85ed-4890-9767-67ed9d442bd5"
      },
      "source": [
        "print(out.backward())"
      ],
      "execution_count": 64,
      "outputs": [
        {
          "output_type": "stream",
          "text": [
            "None\n"
          ],
          "name": "stdout"
        }
      ]
    },
    {
      "cell_type": "code",
      "metadata": {
        "colab": {
          "base_uri": "https://localhost:8080/"
        },
        "id": "1kyUbtYsSdMa",
        "outputId": "f4afe076-1e7e-4bf8-896a-1878cc535a13"
      },
      "source": [
        "print(x.grad)"
      ],
      "execution_count": 66,
      "outputs": [
        {
          "output_type": "stream",
          "text": [
            "tensor([[3., 3.],\n",
            "        [3., 3.]])\n"
          ],
          "name": "stdout"
        }
      ]
    },
    {
      "cell_type": "markdown",
      "metadata": {
        "id": "s4UzLKugW0if"
      },
      "source": [
        "## ANN "
      ]
    },
    {
      "cell_type": "markdown",
      "metadata": {
        "id": "SGBELFq3f7bJ"
      },
      "source": [
        "## Step 1: Build NN Archeteicture"
      ]
    },
    {
      "cell_type": "code",
      "metadata": {
        "id": "5B_HfkCAWk2C"
      },
      "source": [
        "# import libraries\r\n",
        "import torch.nn as nn\r\n",
        "import torch.nn.functional as F\r\n",
        "\r\n",
        "class Net(nn.Module):\r\n",
        "\r\n",
        "  def __init__(self):\r\n",
        "    super(Net,self).__init__()\r\n",
        "    # 1 input image channel, 6 output channels, 3x3 square convolution\r\n",
        "    # kernel\r\n",
        "    self.conv1 = nn.Conv2d(1,6,3)\r\n",
        "    self.conv2 = nn.Conv2d(6, 16, 3)\r\n",
        "    # an affine operation: y = Wx + b\r\n",
        "    self.fc1 = nn.Linear(16 * 6 * 6, 120)  # 6*6 from image dimension\r\n",
        "    self.fc2 = nn.Linear(120, 84)\r\n",
        "    self.fc3 = nn.Linear(84, 10)\r\n",
        "  \r\n",
        "  def forward(self, x):\r\n",
        "        # Max pooling over a (2, 2) window\r\n",
        "        x = F.max_pool2d(F.relu(self.conv1(x)), (2, 2))\r\n",
        "        # If the size is a square you can only specify a single number\r\n",
        "        x = F.max_pool2d(F.relu(self.conv2(x)), 2)\r\n",
        "        x = x.view(-1, self.num_flat_features(x))\r\n",
        "        x = F.relu(self.fc1(x))\r\n",
        "        x = F.relu(self.fc2(x))\r\n",
        "        x = self.fc3(x)\r\n",
        "        return x\r\n",
        "\r\n",
        "  def num_flat_features(self, x):\r\n",
        "        size = x.size()[1:]  # all dimensions except the batch dimension\r\n",
        "        num_features = 1\r\n",
        "        for s in size:\r\n",
        "            num_features *= s\r\n",
        "        return num_features\r\n",
        "\r\n",
        "\r\n",
        "\r\n",
        "\r\n"
      ],
      "execution_count": 77,
      "outputs": []
    },
    {
      "cell_type": "markdown",
      "metadata": {
        "id": "VCBt75Opf5w7"
      },
      "source": [
        "## Step 2: Implement One Forward Pass"
      ]
    },
    {
      "cell_type": "code",
      "metadata": {
        "colab": {
          "base_uri": "https://localhost:8080/"
        },
        "id": "cc5Zuu2bbhsl",
        "outputId": "fb7c79c8-2561-4a7a-9ec5-e140590042d1"
      },
      "source": [
        "# create an object of class Net\r\n",
        "net = Net()\r\n",
        "print(net)"
      ],
      "execution_count": 78,
      "outputs": [
        {
          "output_type": "stream",
          "text": [
            "Net(\n",
            "  (conv1): Conv2d(1, 6, kernel_size=(3, 3), stride=(1, 1))\n",
            "  (conv2): Conv2d(6, 16, kernel_size=(3, 3), stride=(1, 1))\n",
            "  (fc1): Linear(in_features=576, out_features=120, bias=True)\n",
            "  (fc2): Linear(in_features=120, out_features=84, bias=True)\n",
            "  (fc3): Linear(in_features=84, out_features=10, bias=True)\n",
            ")\n"
          ],
          "name": "stdout"
        }
      ]
    },
    {
      "cell_type": "code",
      "metadata": {
        "colab": {
          "base_uri": "https://localhost:8080/"
        },
        "id": "8TOs-fP7c4HM",
        "outputId": "26096259-ec57-4261-827c-93a8ea9e11b8"
      },
      "source": [
        "# Learnable parameters of ann\r\n",
        "params = list(net.parameters())\r\n",
        "print(len(params))\r\n",
        "print(params[0].size())  # conv1's .weight"
      ],
      "execution_count": 83,
      "outputs": [
        {
          "output_type": "stream",
          "text": [
            "10\n",
            "torch.Size([10, 84])\n"
          ],
          "name": "stdout"
        }
      ]
    },
    {
      "cell_type": "code",
      "metadata": {
        "colab": {
          "base_uri": "https://localhost:8080/"
        },
        "id": "MaUd4Mamdmx2",
        "outputId": "886e9d27-3d97-423a-a72c-8c54c8da51a7"
      },
      "source": [
        "# Create input image \r\n",
        "# For example, nn.Conv2d will take in a 4D Tensor of nSamples x nChannels x Height x Width.\r\n",
        "# If you have a single sample, just use input.unsqueeze(0) to add a fake batch dimension.\r\n",
        "input = torch.randn(1, 1, 32, 32)\r\n",
        "print(input)"
      ],
      "execution_count": 86,
      "outputs": [
        {
          "output_type": "stream",
          "text": [
            "tensor([[[[-1.5450,  0.6333,  0.2145,  ..., -0.3885, -0.0073,  0.3841],\n",
            "          [-1.0216, -0.0679, -0.5060,  ...,  0.8411,  0.3317, -0.1294],\n",
            "          [ 0.2395, -0.2879,  0.4470,  ...,  0.8691, -0.5466,  0.2517],\n",
            "          ...,\n",
            "          [-1.0359,  0.5745,  0.5157,  ...,  0.3446, -1.2110, -0.1271],\n",
            "          [-0.3917,  0.5699,  0.8173,  ...,  0.2959,  0.0227, -2.4538],\n",
            "          [ 0.3743, -0.4678, -1.1302,  ..., -0.9404, -0.0515,  0.0845]]]])\n"
          ],
          "name": "stdout"
        },
        {
          "output_type": "execute_result",
          "data": {
            "text/plain": [
              "torch.Size([1, 1, 32, 32])"
            ]
          },
          "metadata": {
            "tags": []
          },
          "execution_count": 86
        }
      ]
    },
    {
      "cell_type": "code",
      "metadata": {
        "colab": {
          "base_uri": "https://localhost:8080/"
        },
        "id": "P5X0dzfPeBy1",
        "outputId": "ebf7dd49-c532-479c-dab0-97ca7931add2"
      },
      "source": [
        "# Let’s try a random 32x32 input. Note: expected input size of this net (LeNet) is 32x32. \r\n",
        "# To use this net on the MNIST dataset, please resize the images from the dataset to 32x32.\r\n",
        "out = net(input)\r\n",
        "print(out)"
      ],
      "execution_count": 87,
      "outputs": [
        {
          "output_type": "stream",
          "text": [
            "tensor([[-0.0714, -0.0180, -0.1057,  0.0404,  0.0144,  0.0483, -0.1364,  0.0540,\n",
            "          0.0521, -0.1181]], grad_fn=<AddmmBackward>)\n"
          ],
          "name": "stdout"
        }
      ]
    },
    {
      "cell_type": "code",
      "metadata": {
        "id": "kTSITK4JeYyW"
      },
      "source": [
        "# Zero the gradient buffers of all parameters and backprops with random gradients:\r\n",
        "\r\n",
        "net.zero_grad()\r\n",
        "out.backward(torch.randn(1, 10))"
      ],
      "execution_count": 88,
      "outputs": []
    },
    {
      "cell_type": "markdown",
      "metadata": {
        "id": "825sxTokfysh"
      },
      "source": [
        "## Step 3: Compute Loss Function"
      ]
    },
    {
      "cell_type": "code",
      "metadata": {
        "colab": {
          "base_uri": "https://localhost:8080/"
        },
        "id": "_FEAJngUfw7M",
        "outputId": "bca0774b-7579-4c8f-843d-55e526d0b231"
      },
      "source": [
        "output = net(input)\r\n",
        "target = torch.randn(10)  # a dummy target, for example\r\n",
        "target = target.view(1, -1)  # make it the same shape as output\r\n",
        "criterion = nn.MSELoss()\r\n",
        "\r\n",
        "loss = criterion(output, target)\r\n",
        "print(loss)"
      ],
      "execution_count": 89,
      "outputs": [
        {
          "output_type": "stream",
          "text": [
            "tensor(1.0313, grad_fn=<MseLossBackward>)\n"
          ],
          "name": "stdout"
        }
      ]
    },
    {
      "cell_type": "markdown",
      "metadata": {
        "id": "RVpURYcQg0DS"
      },
      "source": [
        "## Step 4: BackProp"
      ]
    },
    {
      "cell_type": "code",
      "metadata": {
        "colab": {
          "base_uri": "https://localhost:8080/"
        },
        "id": "pV9sNdlbg3Y7",
        "outputId": "cbfe3374-2f0d-4406-9308-167f4b45452e"
      },
      "source": [
        "net.zero_grad()     # zeroes the gradient buffers of all parameters\r\n",
        "\r\n",
        "print('conv1.bias.grad before backward')\r\n",
        "print(net.conv1.bias.grad)\r\n",
        "\r\n",
        "loss.backward()\r\n",
        "\r\n",
        "print('conv1.bias.grad after backward')\r\n",
        "print(net.conv1.bias.grad)"
      ],
      "execution_count": 90,
      "outputs": [
        {
          "output_type": "stream",
          "text": [
            "conv1.bias.grad before backward\n",
            "tensor([0., 0., 0., 0., 0., 0.])\n",
            "conv1.bias.grad after backward\n",
            "tensor([-0.0036,  0.0253,  0.0073, -0.0104,  0.0180, -0.0140])\n"
          ],
          "name": "stdout"
        }
      ]
    },
    {
      "cell_type": "markdown",
      "metadata": {
        "id": "w4rKlh53hV-n"
      },
      "source": [
        "## Step 5: Update Weights"
      ]
    },
    {
      "cell_type": "code",
      "metadata": {
        "id": "5cRZDabThZTu"
      },
      "source": [
        "import torch.optim as optim\r\n",
        "\r\n",
        "# create your optimizer\r\n",
        "optimizer = optim.SGD(net.parameters(), lr=0.01)\r\n",
        "\r\n",
        "# in your training loop:\r\n",
        "optimizer.zero_grad()   # zero the gradient buffers\r\n",
        "output = net(input)\r\n",
        "loss = criterion(output, target)\r\n",
        "loss.backward()\r\n",
        "optimizer.step()    # Does the update"
      ],
      "execution_count": 91,
      "outputs": []
    }
  ]
}